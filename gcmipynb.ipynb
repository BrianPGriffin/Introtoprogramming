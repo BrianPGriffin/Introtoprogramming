{
  "nbformat": 4,
  "nbformat_minor": 0,
  "metadata": {
    "colab": {
      "provenance": []
    },
    "kernelspec": {
      "name": "python3",
      "display_name": "Python 3"
    },
    "language_info": {
      "name": "python"
    }
  },
  "cells": [
    {
      "cell_type": "code",
      "execution_count": 2,
      "metadata": {
        "id": "vrBWDv4rJPOn"
      },
      "outputs": [],
      "source": [
        "def gcd(a, b):\n",
        "  if b == 0:\n",
        "    return a\n",
        "  else:\n",
        "    return gcd(b, (a % b))"
      ]
    },
    {
      "cell_type": "code",
      "source": [
        "gcd(1220,516)"
      ],
      "metadata": {
        "colab": {
          "base_uri": "https://localhost:8080/"
        },
        "id": "QLh_rAMJdPuD",
        "outputId": "4c9e44bc-ec6d-48aa-86ee-904237089ba4"
      },
      "execution_count": 3,
      "outputs": [
        {
          "output_type": "execute_result",
          "data": {
            "text/plain": [
              "4"
            ]
          },
          "metadata": {},
          "execution_count": 3
        }
      ]
    }
  ]
}